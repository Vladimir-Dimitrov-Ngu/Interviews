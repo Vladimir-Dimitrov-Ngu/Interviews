{
  "cells": [
    {
      "cell_type": "code",
      "execution_count": 1,
      "metadata": {
        "id": "eoPjmvdxTS3x"
      },
      "outputs": [],
      "source": [
        "!CUDA_LAUNCH_BLOCKING=1"
      ]
    },
    {
      "cell_type": "code",
      "execution_count": 2,
      "metadata": {
        "id": "qddOxo1TW82_"
      },
      "outputs": [],
      "source": [
        "from typing import Tuple, Union, List, Callable, Optional\n",
        "from tqdm import tqdm\n",
        "from itertools import islice\n",
        "import pathlib\n",
        "import dataclasses\n",
        "\n",
        "import numpy as np\n",
        "import pandas as pd\n",
        "\n",
        "import torch\n",
        "import torch.nn.functional as F\n",
        "from torch import nn\n",
        "from torch import distributions\n",
        "from torch.utils.data import DataLoader, Dataset, WeightedRandomSampler\n",
        "from torch.nn.utils.rnn import pad_sequence\n",
        "\n",
        "import torchaudio\n",
        "from IPython import display as display_\n",
        "import librosa\n",
        "from collections import defaultdict\n",
        "from IPython.display import clear_output\n",
        "from matplotlib import pyplot as plt\n",
        "\n",
        "from torch import optim\n"
      ]
    },
    {
      "cell_type": "code",
      "execution_count": 3,
      "metadata": {
        "id": "qDlbUBQgTS3y"
      },
      "outputs": [],
      "source": [
        "@dataclasses.dataclass\n",
        "class TaskConfig:\n",
        "    keyword: str = '?-*-*-*.wav'  # Как сохранена вавка\n",
        "    batch_size: int = 128\n",
        "    learning_rate: float = 3e-4\n",
        "    weight_decay: float = 1e-5\n",
        "    num_epochs: int = 20\n",
        "    n_mels: int = 64\n",
        "    cnn_out_channels: int = 8\n",
        "    kernel_size: Tuple[int, int] = (5, 20)\n",
        "    stride: Tuple[int, int] = (2, 8)\n",
        "    hidden_size: int = 64\n",
        "    gru_num_layers: int = 2\n",
        "    bidirectional: bool = False\n",
        "    num_classes: int = 50\n",
        "    sample_rate: int = 44_100\n",
        "    n_fft = 1024\n",
        "    win_length = 1024\n",
        "    hop_length = 256\n",
        "    device: torch.device = torch.device(\n",
        "        'cuda:0' if torch.cuda.is_available() else 'cpu')\n",
        "    path2noise = r'C:\\VS_code\\Deep Learning\\Audio\\audio\\Noise'\n",
        "    train_ratio = 0.9\n",
        "    length_wav = 220_500\n",
        "    length = 862"
      ]
    },
    {
      "cell_type": "code",
      "source": [
        "length = torch.Tensor([np.round(TaskConfig.length_wav / TaskConfig.hop_length + 1)] * TaskConfig.batch_size).squeeze()"
      ],
      "metadata": {
        "id": "zMCjVKeB1CDx"
      },
      "execution_count": 4,
      "outputs": []
    },
    {
      "cell_type": "code",
      "execution_count": 5,
      "metadata": {
        "id": "ixaGVISVTS3z"
      },
      "outputs": [],
      "source": [
        "class ESC_50(Dataset):\n",
        "    SR = TaskConfig.sample_rate\n",
        "    \"\"\"\n",
        "    Каждый формат имеет следующую структуру:\n",
        "        {FOLD}-{CLIP_ID}-{TAKE}-{TARGET}.wav\n",
        "\n",
        "        * {FOLD} - index of the cross-validation fold,\n",
        "        * {CLIP_ID} - ID of the original Freesound clip,\n",
        "        * {TAKE} - letter disambiguating between different fragments from the same Freesound clip,\n",
        "        * {TARGET} - class in numeric format [0, 49].   \n",
        "\n",
        "    Здесь нас интересует только target)\n",
        "    \"\"\"\n",
        "    def __init__(self, path2dir=None,transform=None,csv=None):\n",
        "        self.transform=transform\n",
        "        if csv is None:\n",
        "            path2dir = pathlib.Path(path2dir)\n",
        "            self.paths = list(path2dir.rglob(TaskConfig.keyword))\n",
        "            twins = []\n",
        "            for j in range(len(self.paths)):\n",
        "                path_to_wav = self.paths[j].as_posix()\n",
        "                label = int(path_to_wav.split('/')[-1].split('-')[-1].split('.')[0])\n",
        "                twins.append((path_to_wav, label))\n",
        "            self.csv = pd.DataFrame(\n",
        "                twins,\n",
        "                columns = ['path', 'label']\n",
        "            )\n",
        "        else:\n",
        "            self.csv = csv\n",
        "    \n",
        "    def __getitem__(self, index):\n",
        "        instance = self.csv.iloc[index]\n",
        "\n",
        "        path2wav = instance['path']\n",
        "        wav, sr = torchaudio.load(path2wav)\n",
        "        wav = wav.sum(dim=0) # убираем размерность\n",
        "\n",
        "        if self.transform:\n",
        "            wav = self.transform(wav)\n",
        "\n",
        "        return {\n",
        "            'wav':wav,\n",
        "            'label':instance['label']\n",
        "        } \n",
        "        \n",
        "    def __len__(self):\n",
        "        return len(self.csv)\n",
        "        \n",
        "                "
      ]
    },
    {
      "cell_type": "code",
      "execution_count": 6,
      "metadata": {
        "colab": {
          "base_uri": "https://localhost:8080/"
        },
        "id": "0w3R9G8QTXYy",
        "outputId": "5e615cec-c6cf-4d18-effa-bae020cb6a02"
      },
      "outputs": [
        {
          "output_type": "stream",
          "name": "stdout",
          "text": [
            "Mounted at /content/drive\n"
          ]
        }
      ],
      "source": [
        "from google.colab import drive\n",
        "drive.mount('/content/drive')"
      ]
    },
    {
      "cell_type": "code",
      "execution_count": 7,
      "metadata": {
        "colab": {
          "base_uri": "https://localhost:8080/"
        },
        "id": "hnhauyKUTS3z",
        "outputId": "be64415f-d6ad-49d7-ec58-fe8effd7fb81"
      },
      "outputs": [
        {
          "output_type": "execute_result",
          "data": {
            "text/plain": [
              "2000"
            ]
          },
          "metadata": {},
          "execution_count": 7
        }
      ],
      "source": [
        "data = ESC_50(r'/content/drive/MyDrive/ESC-50')\n",
        "data.csv\n",
        "data.__getitem__(10)\n",
        "data.__len__()"
      ]
    },
    {
      "cell_type": "markdown",
      "metadata": {
        "id": "r3j8vXOJTS30"
      },
      "source": [
        "# Augmentation"
      ]
    },
    {
      "cell_type": "code",
      "execution_count": 8,
      "metadata": {
        "id": "YyjwFrB1TS31"
      },
      "outputs": [],
      "source": [
        "class AugsCreation:\n",
        "    def __init__(self):\n",
        "        self.background_noises = ['/content/drive/MyDrive/Noise/dude_miaowing.wav',\n",
        "                                  '/content/drive/MyDrive/Noise/running_tap.wav',\n",
        "                                  '/content/drive/MyDrive/Noise/pink_noise.wav',\n",
        "                                  '/content/drive/MyDrive/Noise/exercise_bike.wav',\n",
        "                                  '/content/drive/MyDrive/Noise/white_noise.wav']\n",
        "\n",
        "        self.noises = [\n",
        "            torchaudio.load(p)[0].squeeze()\n",
        "            for p in self.background_noises\n",
        "        ]\n",
        "\n",
        "    def add_rand_noise(self, audio):\n",
        "\n",
        "        # randomly choose noise\n",
        "        noise_num = torch.randint(low=0, high=len(\n",
        "            self.background_noises), size=(1,)).item()\n",
        "        noise = self.noises[noise_num]\n",
        "        noise_level = torch.Tensor([1])  # [0, 40]\n",
        "        noise_energy = torch.norm(noise)\n",
        "        audio_energy = torch.norm(audio)\n",
        "        alpha = (audio_energy / noise_energy) * \\\n",
        "            torch.pow(10, -noise_level / 20)\n",
        "        start = torch.randint(\n",
        "            low=0,\n",
        "            high=max(int(noise.size(0) - audio.size(0) - 1), 1),\n",
        "            size=(1,)\n",
        "        ).item()\n",
        "        noise_sample = noise[start: start + audio.size(0)]\n",
        "        audio_new = audio + alpha * noise_sample\n",
        "        audio_new.clamp_(-1, 1)\n",
        "        return audio_new\n",
        "\n",
        "    def __call__(self, wav):\n",
        "        aug_num = torch.randint(low=0, high=4, size=(1,)).item()   # choose 1 random aug from augs\n",
        "        augs = [\n",
        "            lambda x: x,\n",
        "            lambda x: (x + distributions.Normal(0, 0.01).sample(x.size())).clamp_(-1, 1),\n",
        "            # lambda x: librosa.effects.time_stretch(x.numpy().squeeze(), 2.0)\n",
        "            # lambda x: librosa.effects.pitch_shift(x.numpy().squeeze(), sr, -5)\n",
        "            lambda x: torchaudio.transforms.Vol(.25)(x),\n",
        "            lambda x: self.add_rand_noise(x)\n",
        "\n",
        "        ]\n",
        "\n",
        "        return augs[aug_num](wav)"
      ]
    },
    {
      "cell_type": "code",
      "execution_count": null,
      "metadata": {
        "colab": {
          "base_uri": "https://localhost:8080/"
        },
        "id": "jZ1EzzS-TS32",
        "outputId": "b8a14b8d-4a44-4f9d-e9c1-438abc99f6a0"
      },
      "outputs": [
        {
          "output_type": "execute_result",
          "data": {
            "text/plain": [
              "['/content/drive/MyDrive/Noise/dude_miaowing.wav',\n",
              " '/content/drive/MyDrive/Noise/running_tap.wav',\n",
              " '/content/drive/MyDrive/Noise/pink_noise.wav',\n",
              " '/content/drive/MyDrive/Noise/exercise_bike.wav',\n",
              " '/content/drive/MyDrive/Noise/white_noise.wav']"
            ]
          },
          "metadata": {},
          "execution_count": 9
        }
      ],
      "source": [
        "# list_1 =list(pathlib.Path(r'/content/drive/MyDrive/Noise').rglob('*_*.wav'))\n",
        "# list_2 = [j.as_posix() for j in list_1]\n",
        "# list_2"
      ]
    },
    {
      "cell_type": "code",
      "execution_count": 9,
      "metadata": {
        "id": "V9wqVNRMTS32"
      },
      "outputs": [],
      "source": [
        "indexes = torch.randperm(len(data))\n",
        "tr = TaskConfig.train_ratio\n",
        "train_indexes = indexes[:int(len(data) * tr)]\n",
        "val_indexes = indexes[int(len(data) * tr):]\n",
        "\n",
        "train_df = data.csv.iloc[train_indexes].reset_index(drop=True)\n",
        "val_df = data.csv.iloc[val_indexes].reset_index(drop=True)"
      ]
    },
    {
      "cell_type": "code",
      "execution_count": 10,
      "metadata": {
        "id": "UrNiM8eTTS32"
      },
      "outputs": [],
      "source": [
        "train_set = ESC_50(csv=train_df,transform=AugsCreation())\n",
        "val_set = ESC_50(csv=val_df)"
      ]
    },
    {
      "cell_type": "code",
      "execution_count": 11,
      "metadata": {
        "id": "VF0WqHj_TS32"
      },
      "outputs": [],
      "source": [
        "class Collator:\n",
        "    def __call__(self, data):\n",
        "        lengths = []\n",
        "        wavs = []\n",
        "        labels = []\n",
        "\n",
        "        for el in data:\n",
        "            wavs.append(el['wav'])\n",
        "            labels.append(el['label'])\n",
        "            lengths.append(len(el['wav']))\n",
        "\n",
        "        wavs = pad_sequence(wavs, batch_first=True)\n",
        "        labels = torch.Tensor(labels).long()\n",
        "        length = torch.Tensor(lengths).long()\n",
        "        return {\n",
        "            'wav':wavs,\n",
        "            'label': labels,\n",
        "            'length': length\n",
        "        }"
      ]
    },
    {
      "cell_type": "code",
      "execution_count": null,
      "metadata": {
        "id": "APMCtZHbTS33"
      },
      "outputs": [],
      "source": [
        "# # Взвесим каждый таргет на основании его длины \n",
        "# def get_sampler(target):\n",
        "#     class_sample_count = np.array(\n",
        "#         [len(np.where(target==t)[0]) for t in np.unique(target)])\n",
        "\n",
        "#     weight = 1. / class_sample_count\n",
        "#     samples_weight = np.array([weight[t] for t in target])\n",
        "#     samples_weight = torch.from_numpy(samples_weight)\n",
        "#     samples_weight = samples_weight.float()\n",
        "#     sampler = WeightedRandomSampler(samples_weight, len(samples_weight))\n",
        "#     return sampler\n",
        "\n",
        "# train_sampler = get_sampler(train_set.csv['label'].values)"
      ]
    },
    {
      "cell_type": "markdown",
      "metadata": {
        "id": "qe23dSthTS33"
      },
      "source": [
        "Dataloaders"
      ]
    },
    {
      "cell_type": "code",
      "execution_count": 12,
      "metadata": {
        "id": "xY9hP0x2TS34"
      },
      "outputs": [],
      "source": [
        "train_dataloader = DataLoader(\n",
        "    train_set, batch_size=TaskConfig.batch_size,\n",
        "    shuffle=False, collate_fn=Collator(),\n",
        "    #sampler=train_sampler,\n",
        "    num_workers=2, pin_memory=True,\n",
        "    drop_last=True\n",
        ")\n",
        "val_loader = DataLoader(\n",
        "    val_set, batch_size=TaskConfig.batch_size, shuffle=False,\n",
        "    collate_fn=Collator(),\n",
        "    num_workers=2,\n",
        "    pin_memory=True\n",
        ")"
      ]
    },
    {
      "cell_type": "markdown",
      "metadata": {
        "id": "Dn2h8B5NTS34"
      },
      "source": [
        "# Model"
      ]
    },
    {
      "cell_type": "code",
      "execution_count": 13,
      "metadata": {
        "id": "y7N0QmIOKO2N"
      },
      "outputs": [],
      "source": [
        "class Featurizer(nn.Module):\n",
        "    \n",
        "    def __init__(self):\n",
        "        super(Featurizer, self).__init__()\n",
        "        \n",
        "        self.featurizer = torchaudio.transforms.MelSpectrogram(\n",
        "            sample_rate=TaskConfig.sample_rate,\n",
        "            n_fft=TaskConfig.n_fft,\n",
        "            win_length=TaskConfig.win_length,\n",
        "            hop_length=TaskConfig.hop_length,\n",
        "            n_mels=TaskConfig.n_mels,\n",
        "        )\n",
        "        \n",
        "    def forward(self, wav, length=None):\n",
        "        mel_spectrogram = self.featurizer(wav)\n",
        "        mel_spectrogram = mel_spectrogram.clamp(min=1e-5).log()\n",
        "        \n",
        "        if length is not None:\n",
        "            length = (length - self.featurizer.win_length) // self.featurizer.hop_length\n",
        "            # We add `4` because in MelSpectrogram center==True\n",
        "            length += 1 + 4\n",
        "            \n",
        "            return mel_spectrogram, length\n",
        "        \n",
        "        return mel_spectrogram # mel shape is [128, 64, 862]"
      ]
    },
    {
      "cell_type": "code",
      "source": [
        "class AverageMeter(object):\n",
        "    \"\"\"\n",
        "    Computes and stores the average and current value\n",
        "    \"\"\"\n",
        "    \n",
        "    def __init__(self):\n",
        "        self.reset()\n",
        "\n",
        "    def reset(self):\n",
        "        self.val = 0\n",
        "        self.avg = 0\n",
        "        self.sum = 0\n",
        "        self.count = 0\n",
        "\n",
        "    def update(self, val, n=1):\n",
        "        self.val = val\n",
        "        self.sum += val * n\n",
        "        self.count += n\n",
        "        self.avg = self.sum / self.count"
      ],
      "metadata": {
        "id": "BjpEo3TPJ_o1"
      },
      "execution_count": 14,
      "outputs": []
    },
    {
      "cell_type": "code",
      "source": [
        "class SimpleModel(nn.Module):\n",
        "  def __init__(self,config: TaskConfig):\n",
        "    super().__init__()\n",
        "    self.config = config\n",
        "    self.conv1 = nn.Conv2d(in_channels=1, out_channels=config.cnn_out_channels,kernel_size=config.kernel_size)\n",
        "    self.conv2 = nn.Conv2d(in_channels = config.cnn_out_channels, out_channels =config.cnn_out_channels, kernel_size = config.kernel_size)\n",
        "    self.conv3 = nn.Conv2d(in_channels = config.cnn_out_channels, out_channels =config.cnn_out_channels, kernel_size = config.kernel_size)\n",
        "    self.number = 20904\n",
        "    self.pool = nn.MaxPool2d(4)\n",
        "    self.flatten = nn.Flatten()\n",
        "    self.linear1 = nn.Linear(self.number, int(self.number / 4))\n",
        "    self.linear2 = nn.Linear(int(self.number / 4), int(self.number / 4 / 16))\n",
        "    self.linear3 = nn.Linear(int(self.number / 4 / 16), config.num_classes)\n",
        "\n",
        "  def forward(self, batch):\n",
        "    batch = F.relu(self.conv1(batch.unsqueeze(dim=1)))\n",
        "    batch = F.relu(self.conv2(batch))\n",
        "    batch = F.relu(self.conv3(batch))\n",
        "    batch = self.pool(batch)\n",
        "    batch = self.flatten(batch)\n",
        "    batch = F.relu(self.linear1(batch))\n",
        "    batch = F.relu(self.linear2(batch))\n",
        "    batch = F.relu(self.linear3(batch))\n",
        "    return batch"
      ],
      "metadata": {
        "id": "k810_wc_7CWZ"
      },
      "execution_count": null,
      "outputs": []
    },
    {
      "cell_type": "code",
      "source": [
        "torch.cuda.empty_cache()\n",
        "device = torch.device('cuda') if torch.cuda.is_available() else torch.device('cpu')\n",
        "#device = 'cpu'\n",
        "config = TaskConfig()\n",
        "model = SimpleModel(config).to(device)\n",
        "featurizer = Featurizer().to(device)\n",
        "\n",
        "optimizer = optim.Adam(model.parameters(), lr=TaskConfig.learning_rate, weight_decay=TaskConfig.weight_decay)\n",
        "criterion = nn.CrossEntropyLoss()"
      ],
      "metadata": {
        "id": "YmIcPvECJ6qQ"
      },
      "execution_count": null,
      "outputs": []
    },
    {
      "cell_type": "code",
      "source": [
        "storage = defaultdict(list)\n",
        "num_epoch = 10"
      ],
      "metadata": {
        "id": "dcplzbquLwz0"
      },
      "execution_count": null,
      "outputs": []
    },
    {
      "cell_type": "code",
      "source": [
        "for epoch in range(num_epoch):\n",
        "    train_loss_meter = AverageMeter()\n",
        "\n",
        "    model.train()\n",
        "    for i, batch in enumerate(tqdm(train_dataloader)):\n",
        "        # Move batch to device if device != 'cpu'\n",
        "        wav = batch['wav'].to(device, non_blocking=True)\n",
        "        label = batch['label'].to(device, non_blocking=True)\n",
        "        mel= featurizer(wav)\n",
        "        output = model(mel)\n",
        "\n",
        "        loss = criterion(output, label)\n",
        "\n",
        "        optimizer.zero_grad()\n",
        "        loss.backward()\n",
        "        optimizer.step()\n",
        "\n",
        "        train_loss_meter.update(loss.item())\n",
        "        \n",
        "    storage['train_loss'].append(train_loss_meter.avg)\n",
        "    \n",
        "    validation_loss_meter = AverageMeter()\n",
        "    validation_accuracy_meter = AverageMeter()\n",
        "\n",
        "    model.eval()\n",
        "    for i, batch in islice(enumerate(tqdm(val_loader)), 1):\n",
        "        # Move batch to device if device != 'cpu'\n",
        "        wav = batch['wav'].to(device)\n",
        "        label = batch['label'].to(device)\n",
        "\n",
        "        #with torch.no_grad():\n",
        "        with torch.inference_mode(): # вместо no_grad усовершественная вещь \n",
        "\n",
        "            mel= featurizer(wav)\n",
        "            output = model(mel)\n",
        "\n",
        "            loss = criterion(output, label)\n",
        "        \n",
        "        matches = (output.argmax(dim=-1) == label).float().mean()\n",
        "\n",
        "        validation_loss_meter.update(loss.item())\n",
        "        validation_accuracy_meter.update(matches.item())\n",
        "        \n",
        "    storage['validation_loss'].append(validation_loss_meter.avg)\n",
        "    storage['validation_accuracy'].append(validation_accuracy_meter.avg)\n",
        "    \n",
        "    clear_output()\n",
        "    \n",
        "    fig, axes = plt.subplots(1, 3, figsize=(20, 5))\n",
        "\n",
        "    axes[0].plot(storage['train_loss'], label='train_loss')\n",
        "    axes[1].plot(storage['validation_loss'], label='validation_loss')\n",
        "\n",
        "    axes[2].plot(storage['validation_accuracy'], label='validation_accuracy')\n",
        "\n",
        "    for i in range(3):\n",
        "        axes[i].grid()\n",
        "        axes[i].legend()\n",
        "\n",
        "    plt.show()"
      ],
      "metadata": {
        "colab": {
          "base_uri": "https://localhost:8080/",
          "height": 322
        },
        "id": "yElvOdy5Ly7L",
        "outputId": "3164310d-b944-4203-ac36-962de90b6e70"
      },
      "execution_count": null,
      "outputs": [
        {
          "output_type": "display_data",
          "data": {
            "text/plain": [
              "<Figure size 1440x360 with 3 Axes>"
            ],
            "image/png": "[encoded data removed]"
          },
          "metadata": {
            "needs_background": "light"
          }
        }
      ]
    },
    {
      "cell_type": "code",
      "source": [
        "class AdvancedModel(nn.Module):\n",
        "  def __init__(self, config:TaskConfig):\n",
        "    super().__init__()\n",
        "    self.config = config\n",
        "    # block 1\n",
        "    self.conv1_1 = nn.Conv2d(in_channels=1, out_channels=config.cnn_out_channels,kernel_size=config.kernel_size, padding=1) # Conv2d(1, 8, kernel_size=(5, 20), stride=(1, 1), padding=(1, 1))\n",
        "    self.conv1_2 = nn.Conv2d(in_channels = config.cnn_out_channels, out_channels =config.cnn_out_channels, kernel_size = config.kernel_size, padding=1)\n",
        "    self.norm1 = nn.BatchNorm2d(config.cnn_out_channels)\n",
        "    self.drop1 = nn.Dropout(0.2)\n",
        "\n",
        "    # block 2\n",
        "    self.conv2_1 = nn.Conv2d(in_channels=config.cnn_out_channels, out_channels=config.cnn_out_channels * 2,kernel_size=config.kernel_size, padding=1)\n",
        "    self.conv2_2 = nn.Conv2d(in_channels = config.cnn_out_channels * 2, out_channels =config.cnn_out_channels * 2, kernel_size = config.kernel_size, padding=1)\n",
        "    self.norm2 = nn.BatchNorm2d(config.cnn_out_channels * 2)\n",
        "    self.drop2 = nn.Dropout(0.2)\n",
        "    # block 3\n",
        "    self.conv3_1 = nn.Conv2d(in_channels=config.cnn_out_channels * 2,out_channels=config.cnn_out_channels * 4,kernel_size=config.kernel_size, padding=1)\n",
        "    self.conv3_2 = nn.Conv2d(in_channels = config.cnn_out_channels * 4, out_channels =config.cnn_out_channels * 4, kernel_size = config.kernel_size, padding=1)\n",
        "    self.norm3 = nn.BatchNorm2d(config.cnn_out_channels * 4)\n",
        "    self.drop3 = nn.Dropout(0.2)\n",
        "    # block linear\n",
        "    self.number = 9984\n",
        "    self.pool = nn.MaxPool2d(2,2)\n",
        "    self.flatten = nn.Flatten()\n",
        "    self.linear1 = nn.Linear(self.number, int(self.number / 4))\n",
        "    self.norm4 = nn.BatchNorm1d(int(self.number / 4))\n",
        "    self.drop4 = nn.Dropout(0.2)\n",
        "    self.linear2 = nn.Linear(int(self.number / 4), int(self.number / 4 / 16))\n",
        "    self.norm5 = nn.BatchNorm1d(int(self.number / 4 / 16))\n",
        "    self.drop5 = nn.Dropout(0.5)\n",
        "    self.linear3 = nn.Linear(int(self.number / 4 / 16), config.num_classes)\n",
        "  \n",
        "  def forward(self, batch):\n",
        "    # first block\n",
        "    batch = F.relu(self.norm1(self.conv1_1(batch.unsqueeze(dim=1))))\n",
        "    batch = F.relu(self.norm1(self.conv1_2(batch)))\n",
        "    batch = self.pool(batch)\n",
        "    batch = self.drop1(batch)\n",
        "    # second block\n",
        "    batch = F.relu(self.norm2(self.conv2_1(batch)))\n",
        "    batch = F.relu(self.norm2(self.conv2_2(batch)))\n",
        "    batch = self.pool(batch)\n",
        "    batch = self.drop2(batch)\n",
        "    # third block\n",
        "    batch = F.relu(self.norm3(self.conv3_1(batch)))\n",
        "    batch = F.relu(self.norm3(self.conv3_2(batch)))\n",
        "    batch = self.pool(batch)\n",
        "    batch = self.drop3(batch)\n",
        "    # flatten block\n",
        "    batch = self.flatten(batch)\n",
        "    # linear first block\n",
        "    batch = self.norm4((self.linear1(batch)))\n",
        "    batch = self.drop4(F.relu(batch))\n",
        "    # linear second block\n",
        "    batch = self.norm5((self.linear2(batch)))\n",
        "    batch = self.drop5(F.relu(batch))\n",
        "    # linear third block\n",
        "    batch = self.linear3(batch)\n",
        "    return batch\n"
      ],
      "metadata": {
        "id": "bB1ryrReSCri"
      },
      "execution_count": null,
      "outputs": []
    },
    {
      "cell_type": "code",
      "source": [
        "device = torch.device('cuda') if torch.cuda.is_available() else torch.device('cpu')\n",
        "config = TaskConfig()\n",
        "model = AdvancedModel(config).to(device)\n",
        "featurizer = Featurizer().to(device)\n",
        "\n",
        "optimizer = optim.Adam(model.parameters(), lr=TaskConfig.learning_rate, weight_decay=TaskConfig.weight_decay)\n",
        "criterion = nn.CrossEntropyLoss()\n",
        "storage = defaultdict(list)\n",
        "num_epoch = 10"
      ],
      "metadata": {
        "id": "EOutVirbfcrV"
      },
      "execution_count": null,
      "outputs": []
    },
    {
      "cell_type": "code",
      "source": [
        "for epoch in range(num_epoch):\n",
        "    train_loss_meter = AverageMeter()\n",
        "\n",
        "    model.train()\n",
        "    for i, batch in enumerate(tqdm(train_dataloader)):\n",
        "        # Move batch to device if device != 'cpu'\n",
        "        wav = batch['wav'].to(device, non_blocking=True)\n",
        "        label = batch['label'].to(device, non_blocking=True)\n",
        "        mel= featurizer(wav)\n",
        "        output = model(mel)\n",
        "\n",
        "        loss = criterion(output, label)\n",
        "\n",
        "        optimizer.zero_grad()\n",
        "        loss.backward()\n",
        "        optimizer.step()\n",
        "\n",
        "        train_loss_meter.update(loss.item())\n",
        "        \n",
        "    storage['train_loss'].append(train_loss_meter.avg)\n",
        "    \n",
        "    validation_loss_meter = AverageMeter()\n",
        "    validation_accuracy_meter = AverageMeter()\n",
        "\n",
        "    model.eval()\n",
        "    for i, batch in islice(enumerate(tqdm(val_loader)), 1):\n",
        "        # Move batch to device if device != 'cpu'\n",
        "        wav = batch['wav'].to(device)\n",
        "        label = batch['label'].to(device)\n",
        "\n",
        "        #with torch.no_grad():\n",
        "        with torch.inference_mode(): # вместо no_grad усовершественная вещь \n",
        "\n",
        "            mel= featurizer(wav)\n",
        "            output = model(mel)\n",
        "\n",
        "            loss = criterion(output, label)\n",
        "        \n",
        "        matches = (output.argmax(dim=-1) == label).float().mean()\n",
        "\n",
        "        validation_loss_meter.update(loss.item())\n",
        "        validation_accuracy_meter.update(matches.item())\n",
        "        \n",
        "    storage['validation_loss'].append(validation_loss_meter.avg)\n",
        "    storage['validation_accuracy'].append(validation_accuracy_meter.avg)\n",
        "    \n",
        "    clear_output()\n",
        "    \n",
        "    fig, axes = plt.subplots(1, 3, figsize=(20, 5))\n",
        "\n",
        "    axes[0].plot(storage['train_loss'], label='train_loss')\n",
        "    axes[1].plot(storage['validation_loss'], label='validation_loss')\n",
        "\n",
        "    axes[2].plot(storage['validation_accuracy'], label='validation_accuracy')\n",
        "\n",
        "    for i in range(3):\n",
        "        axes[i].grid()\n",
        "        axes[i].legend()\n",
        "\n",
        "    plt.show()"
      ],
      "metadata": {
        "colab": {
          "base_uri": "https://localhost:8080/",
          "height": 323
        },
        "id": "eq-dTg4rfjn4",
        "outputId": "2e263e92-2172-4167-a76f-bcd5f16e409c"
      },
      "execution_count": null,
      "outputs": [
        {
          "output_type": "display_data",
          "data": {
            "text/plain": [
              "<Figure size 1440x360 with 3 Axes>"
            ],
            "image/png": "[encoded data removed]"
          },
          "metadata": {
            "needs_background": "light"
          }
        }
      ]
    },
    {
      "cell_type": "code",
      "source": [
        "# Create by: https://github.com/anuragkr90/weak_feature_extractor\n",
        "\n",
        "class Githubmodel(nn.Module):\n",
        "\n",
        "    def __init__(self, config:TaskConfig):\n",
        "        super(Githubmodel,self).__init__()\n",
        "        self.config = config\n",
        "        self.layer1 = nn.Sequential(nn.Conv2d(1,16,kernel_size=3,padding=1),nn.BatchNorm2d(16),nn.ReLU())\n",
        "        self.layer2 = nn.Sequential(nn.Conv2d(16,16,kernel_size=3,padding=1),nn.BatchNorm2d(16),nn.ReLU())\n",
        "        self.layer3 = nn.MaxPool2d(2)\n",
        "\n",
        "        self.layer4 = nn.Sequential(nn.Conv2d(16,32,kernel_size=3,padding=1),nn.BatchNorm2d(32),nn.ReLU())\n",
        "        self.layer5 = nn.Sequential(nn.Conv2d(32,32,kernel_size=3,padding=1),nn.BatchNorm2d(32),nn.ReLU())\n",
        "        self.layer6 = nn.MaxPool2d(2)\n",
        "\n",
        "        self.layer7 = nn.Sequential(nn.Conv2d(32,64,kernel_size=3,padding=1),nn.BatchNorm2d(64),nn.ReLU())\n",
        "        self.layer8 = nn.Sequential(nn.Conv2d(64,64,kernel_size=3,padding=1),nn.BatchNorm2d(64),nn.ReLU())\n",
        "        self.layer9 = nn.MaxPool2d(2)\n",
        "\n",
        "        self.layer10 = nn.Sequential(nn.Conv2d(64,128,kernel_size=3,padding=1),nn.BatchNorm2d(128),nn.ReLU())\n",
        "        self.layer11 = nn.Sequential(nn.Conv2d(128,128,kernel_size=3,padding=1),nn.BatchNorm2d(128),nn.ReLU())\n",
        "        self.layer12 = nn.MaxPool2d(2)\n",
        "\n",
        "        self.layer13 = nn.Sequential(nn.Conv2d(128,256,kernel_size=3,padding=1),nn.BatchNorm2d(256),nn.ReLU())\n",
        "        self.layer14 = nn.Sequential(nn.Conv2d(256,256,kernel_size=3,padding=1),nn.BatchNorm2d(256),nn.ReLU())\n",
        "        self.layer15 = nn.MaxPool2d(2) #\n",
        "\n",
        "        self.layer16 = nn.Sequential(nn.Conv2d(256,512,kernel_size=3,padding=1),nn.BatchNorm2d(512),nn.ReLU())\n",
        "        # self.layer17 = nn.MaxPool2d(2) # \n",
        "        \n",
        "        self.layer18 = nn.Sequential(nn.Conv2d(512,1024,kernel_size=2),nn.BatchNorm2d(1024),nn.ReLU())\n",
        "        self.layer19 = nn.Sequential(nn.Conv2d(1024,config.num_classes,kernel_size=1),nn.Sigmoid())\n",
        "        \n",
        "        self.flatten = nn.Flatten()\n",
        "        self.layer20 = nn.Linear(1250, config.num_classes)\n",
        "\n",
        "    def forward(self,x):\n",
        "        out = self.layer1(x.unsqueeze(dim=1))\n",
        "        out = self.layer2(out)\n",
        "        out = self.layer3(out)\n",
        "        out = self.layer4(out)\n",
        "        out = self.layer5(out)\n",
        "        out = self.layer6(out)\n",
        "        out = self.layer7(out)\n",
        "        out = self.layer8(out)\n",
        "        out = self.layer9(out)\n",
        "        out = self.layer10(out)\n",
        "        out = self.layer11(out)\n",
        "        out = self.layer12(out)\n",
        "        out = self.layer13(out)\n",
        "        out = self.layer14(out)\n",
        "        out = self.layer15(out)\n",
        "        out = self.layer16(out)\n",
        "        #out = self.layer17(out)\n",
        "        out = self.layer18(out)\n",
        "        out1 = self.layer19(out)\n",
        "        out1 = self.layer20(self.flatten(out1))\n",
        "        #out = self.globalpool(out1,kernel_size=out1.size()[2:])\n",
        "        #out = out.view(out.size(0),-1)\n",
        "        return out1"
      ],
      "metadata": {
        "id": "51tBDnQHgjuT"
      },
      "execution_count": null,
      "outputs": []
    },
    {
      "cell_type": "code",
      "source": [
        "# a = next(iter(train_dataloader))['wav']\n",
        "# featurizer = Featurizer()\n",
        "# b = featurizer(a)\n",
        "# b.shape"
      ],
      "metadata": {
        "colab": {
          "base_uri": "https://localhost:8080/"
        },
        "id": "9Qn6ZkXOhMAJ",
        "outputId": "3cb1ecda-af6f-4954-fb3b-0dbc77753b7b"
      },
      "execution_count": null,
      "outputs": [
        {
          "output_type": "execute_result",
          "data": {
            "text/plain": [
              "torch.Size([128, 64, 862])"
            ]
          },
          "metadata": {},
          "execution_count": 13
        }
      ]
    },
    {
      "cell_type": "code",
      "source": [
        "device = torch.device('cuda') if torch.cuda.is_available() else torch.device('cpu')\n",
        "config = TaskConfig()\n",
        "model = Githubmodel(config).to(device)\n",
        "featurizer = Featurizer().to(device)\n",
        "\n",
        "optimizer = optim.Adam(model.parameters(), lr=TaskConfig.learning_rate, weight_decay=TaskConfig.weight_decay)\n",
        "criterion = nn.CrossEntropyLoss()\n",
        "storage = defaultdict(list)\n",
        "num_epoch = 10"
      ],
      "metadata": {
        "id": "LvFw8P65kV6f"
      },
      "execution_count": null,
      "outputs": []
    },
    {
      "cell_type": "code",
      "source": [
        "for epoch in range(num_epoch):\n",
        "    train_loss_meter = AverageMeter()\n",
        "\n",
        "    model.train()\n",
        "    for i, batch in enumerate(tqdm(train_dataloader)):\n",
        "        # Move batch to device if device != 'cpu'\n",
        "        wav = batch['wav'].to(device, non_blocking=True)\n",
        "        label = batch['label'].to(device, non_blocking=True)\n",
        "        mel= featurizer(wav)\n",
        "        output = model(mel)\n",
        "\n",
        "        loss = criterion(output, label)\n",
        "\n",
        "        optimizer.zero_grad()\n",
        "        loss.backward()\n",
        "        optimizer.step()\n",
        "\n",
        "        train_loss_meter.update(loss.item())\n",
        "        \n",
        "    storage['train_loss'].append(train_loss_meter.avg)\n",
        "    \n",
        "    validation_loss_meter = AverageMeter()\n",
        "    validation_accuracy_meter = AverageMeter()\n",
        "\n",
        "    model.eval()\n",
        "    for i, batch in islice(enumerate(tqdm(val_loader)), 1):\n",
        "        # Move batch to device if device != 'cpu'\n",
        "        wav = batch['wav'].to(device)\n",
        "        label = batch['label'].to(device)\n",
        "\n",
        "        #with torch.no_grad():\n",
        "        with torch.inference_mode(): # вместо no_grad усовершественная вещь \n",
        "\n",
        "            mel= featurizer(wav)\n",
        "            output = model(mel)\n",
        "\n",
        "            loss = criterion(output, label)\n",
        "        \n",
        "        matches = (output.argmax(dim=-1) == label).float().mean()\n",
        "\n",
        "        validation_loss_meter.update(loss.item())\n",
        "        validation_accuracy_meter.update(matches.item())\n",
        "        \n",
        "    storage['validation_loss'].append(validation_loss_meter.avg)\n",
        "    storage['validation_accuracy'].append(validation_accuracy_meter.avg)\n",
        "    \n",
        "    clear_output()\n",
        "    \n",
        "    fig, axes = plt.subplots(1, 3, figsize=(20, 5))\n",
        "\n",
        "    axes[0].plot(storage['train_loss'], label='train_loss')\n",
        "    axes[1].plot(storage['validation_loss'], label='validation_loss')\n",
        "\n",
        "    axes[2].plot(storage['validation_accuracy'], label='validation_accuracy')\n",
        "\n",
        "    for i in range(3):\n",
        "        axes[i].grid()\n",
        "        axes[i].legend()\n",
        "\n",
        "    plt.show()"
      ],
      "metadata": {
        "colab": {
          "base_uri": "https://localhost:8080/",
          "height": 320
        },
        "id": "_OVk_aoAkaeS",
        "outputId": "476db5ad-9976-4433-f93a-1fa356423198"
      },
      "execution_count": null,
      "outputs": [
        {
          "output_type": "display_data",
          "data": {
            "text/plain": [
              "<Figure size 1440x360 with 3 Axes>"
            ],
            "image/png": "[encoded data removed]"
          },
          "metadata": {
            "needs_background": "light"
          }
        }
      ]
    },
    {
      "cell_type": "code",
      "execution_count": null,
      "metadata": {
        "id": "57C8KNQeKb-u"
      },
      "outputs": [],
      "source": [
        "class Model(nn.Module):\n",
        "    \n",
        "    def __init__(self, input_dim, hidden_size):\n",
        "        super().__init__()\n",
        "        self.input_dim = input_dim\n",
        "        self.hidden_size = hidden_size\n",
        "        self.rnn = nn.LSTM(input_size=input_dim, hidden_size=hidden_size, batch_first=True)\n",
        "        self.clf = nn.Linear(hidden_size, 50)\n",
        "    \n",
        "    def forward(self, input, length=length):\n",
        "        output, _ = self.rnn(input.transpose(-1, -2))   # mel shape [128, 862, 64] \n",
        "        last_hidden = torch.gather(\n",
        "            output,\n",
        "            dim=1,\n",
        "            # substract 1 because index start from 0 (not 1 as length)\n",
        "            index=length.sub(1).view(-1, 1, 1).expand(-1, -1, self.hidden_size)\n",
        "        )\n",
        "        logits = self.clf(last_hidden.squeeze(dim=1))\n",
        "        \n",
        "        return logits"
      ]
    },
    {
      "cell_type": "code",
      "execution_count": null,
      "metadata": {
        "id": "gVBNy4-UKRyt"
      },
      "outputs": [],
      "source": [
        "device = torch.device('cuda') if torch.cuda.is_available() else torch.device('cpu')\n",
        "\n",
        "model = Model(input_dim=TaskConfig.n_mels, hidden_size=TaskConfig.batch_size).to(device)\n",
        "featurizer = Featurizer().to(device)\n",
        "\n",
        "optimizer = optim.Adam(model.parameters(), lr=TaskConfig.learning_rate, weight_decay=TaskConfig.weight_decay)\n",
        "criterion = nn.CrossEntropyLoss()\n",
        "\n",
        "storage = defaultdict(list)\n",
        "num_epoch = 10"
      ]
    },
    {
      "cell_type": "code",
      "execution_count": null,
      "metadata": {
        "colab": {
          "base_uri": "https://localhost:8080/",
          "height": 320
        },
        "id": "CqXrcIV3K1jc",
        "outputId": "cb015f6d-af15-4dd6-aa32-5803e4acfc29"
      },
      "outputs": [
        {
          "output_type": "display_data",
          "data": {
            "text/plain": [
              "<Figure size 1440x360 with 3 Axes>"
            ],
            "image/png": "[encoded data removed]"
          },
          "metadata": {
            "needs_background": "light"
          }
        }
      ],
      "source": [
        "for epoch in range(num_epoch):\n",
        "    train_loss_meter = AverageMeter()\n",
        "\n",
        "    model.train()\n",
        "    for i, batch in enumerate(tqdm(train_dataloader)):\n",
        "        # Move batch to device if device != 'cpu'\n",
        "        wav = batch['wav'].to(device, non_blocking=True)\n",
        "        length = batch['length'].to(device, non_blocking=True)\n",
        "        label = batch['label'].to(device, non_blocking=True)\n",
        "\n",
        "        mel, mel_length = featurizer(wav, length)\n",
        "        output = model(mel, mel_length)\n",
        "\n",
        "        loss = criterion(output, label)\n",
        "\n",
        "        optimizer.zero_grad()\n",
        "        loss.backward()\n",
        "        optimizer.step()\n",
        "\n",
        "        train_loss_meter.update(loss.item())\n",
        "        \n",
        "    storage['train_loss'].append(train_loss_meter.avg)\n",
        "    \n",
        "    validation_loss_meter = AverageMeter()\n",
        "    validation_accuracy_meter = AverageMeter()\n",
        "\n",
        "    model.eval()\n",
        "    for i, batch in islice(enumerate(tqdm(val_loader)), 1):\n",
        "        # Move batch to device if device != 'cpu'\n",
        "        wav = batch['wav'].to(device)\n",
        "        length = batch['length'].to(device)\n",
        "        label = batch['label'].to(device)\n",
        "\n",
        "        #with torch.no_grad():\n",
        "        with torch.inference_mode(): # вместо no_grad усовершественная вещь \n",
        "\n",
        "            mel, mel_length = featurizer(wav, length)\n",
        "            output = model(mel, mel_length)\n",
        "\n",
        "            loss = criterion(output, label)\n",
        "        \n",
        "        matches = (output.argmax(dim=-1) == label).float().mean()\n",
        "\n",
        "        validation_loss_meter.update(loss.item())\n",
        "        validation_accuracy_meter.update(matches.item())\n",
        "        \n",
        "    storage['validation_loss'].append(validation_loss_meter.avg)\n",
        "    storage['validation_accuracy'].append(validation_accuracy_meter.avg)\n",
        "    \n",
        "    clear_output()\n",
        "    \n",
        "    fig, axes = plt.subplots(1, 3, figsize=(20, 5))\n",
        "\n",
        "    axes[0].plot(storage['train_loss'], label='train_loss')\n",
        "    axes[1].plot(storage['validation_loss'], label='validation_loss')\n",
        "\n",
        "    axes[2].plot(storage['validation_accuracy'], label='validation_accuracy')\n",
        "\n",
        "    for i in range(3):\n",
        "        axes[i].grid()\n",
        "        axes[i].legend()\n",
        "\n",
        "    plt.show()"
      ]
    },
    {
      "cell_type": "code",
      "execution_count": null,
      "metadata": {
        "id": "ttffrbLdTS34"
      },
      "outputs": [],
      "source": [
        "class Attention(nn.Module):\n",
        "\n",
        "    def __init__(self, hidden_size: int):\n",
        "        super().__init__()\n",
        "\n",
        "        self.energy = nn.Sequential(\n",
        "            nn.Linear(hidden_size, hidden_size),\n",
        "            nn.Tanh(),\n",
        "            nn.Linear(hidden_size, 1)\n",
        "        )\n",
        "    \n",
        "    def forward(self, input):\n",
        "        energy = self.energy(input)\n",
        "        alpha = torch.softmax(energy, dim=-2)\n",
        "        return (input * alpha).sum(dim=-2)\n",
        "\n",
        "class CRNN(nn.Module):\n",
        "\n",
        "    def __init__(self, config: TaskConfig):\n",
        "        super().__init__()\n",
        "        self.config = config\n",
        "\n",
        "        self.conv = nn.Sequential(\n",
        "            nn.Conv2d(\n",
        "                in_channels=1, out_channels=config.cnn_out_channels,\n",
        "                kernel_size=config.kernel_size, stride=config.stride\n",
        "            ),\n",
        "            nn.Flatten(start_dim=1, end_dim=2),\n",
        "        ) # kernel_size - отвечает за размер свертки, out_channels - количество выходных каналов\n",
        "\n",
        "        self.conv_out_frequency = (config.n_mels - config.kernel_size[0]) // \\\n",
        "            config.stride[0] + 1\n",
        "        \n",
        "        self.gru = nn.GRU(\n",
        "            input_size=self.conv_out_frequency * config.cnn_out_channels,\n",
        "            hidden_size=config.hidden_size,\n",
        "            num_layers=config.gru_num_layers,\n",
        "            dropout=0.1,\n",
        "            bidirectional=config.bidirectional,\n",
        "            batch_first=True\n",
        "        )\n",
        "\n",
        "        self.attention = Attention(config.hidden_size)\n",
        "        self.classifier = nn.Linear(config.hidden_size, config.num_classes)\n",
        "    \n",
        "    def forward(self, input):\n",
        "        input = input.unsqueeze(dim=1)\n",
        "        conv_output = self.conv(input).transpose(-1, -2)\n",
        "        gru_output, _ = self.gru(conv_output)\n",
        "        contex_vector = self.attention(gru_output)\n",
        "        output = self.classifier(contex_vector)\n",
        "        return output\n"
      ]
    },
    {
      "cell_type": "code",
      "source": [
        "device = torch.device('cuda') if torch.cuda.is_available() else torch.device('cpu')\n",
        "config = TaskConfig()\n",
        "model = CRNN(config).to(device)\n",
        "featurizer = Featurizer().to(device)\n",
        "\n",
        "optimizer = optim.Adam(model.parameters(), lr=TaskConfig.learning_rate, weight_decay=TaskConfig.weight_decay)\n",
        "criterion = nn.CrossEntropyLoss()\n",
        "storage = defaultdict(list)\n",
        "num_epoch = 10"
      ],
      "metadata": {
        "id": "9-vY68NCqFEk"
      },
      "execution_count": null,
      "outputs": []
    },
    {
      "cell_type": "code",
      "source": [
        "for epoch in range(num_epoch):\n",
        "    train_loss_meter = AverageMeter()\n",
        "\n",
        "    model.train()\n",
        "    for i, batch in enumerate(tqdm(train_dataloader)):\n",
        "        # Move batch to device if device != 'cpu'\n",
        "        wav = batch['wav'].to(device, non_blocking=True)\n",
        "        label = batch['label'].to(device, non_blocking=True)\n",
        "        mel= featurizer(wav)\n",
        "        output = model(mel)\n",
        "\n",
        "        loss = criterion(output, label)\n",
        "\n",
        "        optimizer.zero_grad()\n",
        "        loss.backward()\n",
        "        optimizer.step()\n",
        "\n",
        "        train_loss_meter.update(loss.item())\n",
        "        \n",
        "    storage['train_loss'].append(train_loss_meter.avg)\n",
        "    \n",
        "    validation_loss_meter = AverageMeter()\n",
        "    validation_accuracy_meter = AverageMeter()\n",
        "\n",
        "    model.eval()\n",
        "    for i, batch in islice(enumerate(tqdm(val_loader)), 1):\n",
        "        # Move batch to device if device != 'cpu'\n",
        "        wav = batch['wav'].to(device)\n",
        "        label = batch['label'].to(device)\n",
        "\n",
        "        #with torch.no_grad():\n",
        "        with torch.inference_mode(): # вместо no_grad усовершественная вещь \n",
        "\n",
        "            mel= featurizer(wav)\n",
        "            output = model(mel)\n",
        "\n",
        "            loss = criterion(output, label)\n",
        "        \n",
        "        matches = (output.argmax(dim=-1) == label).float().mean()\n",
        "\n",
        "        validation_loss_meter.update(loss.item())\n",
        "        validation_accuracy_meter.update(matches.item())\n",
        "        \n",
        "    storage['validation_loss'].append(validation_loss_meter.avg)\n",
        "    storage['validation_accuracy'].append(validation_accuracy_meter.avg)\n",
        "    \n",
        "    clear_output()\n",
        "    \n",
        "    fig, axes = plt.subplots(1, 3, figsize=(20, 5))\n",
        "\n",
        "    axes[0].plot(storage['train_loss'], label='train_loss')\n",
        "    axes[1].plot(storage['validation_loss'], label='validation_loss')\n",
        "\n",
        "    axes[2].plot(storage['validation_accuracy'], label='validation_accuracy')\n",
        "\n",
        "    for i in range(3):\n",
        "        axes[i].grid()\n",
        "        axes[i].legend()\n",
        "\n",
        "    plt.show()"
      ],
      "metadata": {
        "colab": {
          "base_uri": "https://localhost:8080/",
          "height": 320
        },
        "id": "ABUaqT25quM2",
        "outputId": "2cb8caed-a9ee-4a7d-d3f3-c5b5e124345c"
      },
      "execution_count": null,
      "outputs": [
        {
          "output_type": "display_data",
          "data": {
            "text/plain": [
              "<Figure size 1440x360 with 3 Axes>"
            ],
            "image/png": "[encoded data removed]"
          },
          "metadata": {
            "needs_background": "light"
          }
        }
      ]
    },
    {
      "cell_type": "code",
      "source": [
        "from torchvision.models import vgg19"
      ],
      "metadata": {
        "id": "8GWSpS8zrdWb"
      },
      "execution_count": 15,
      "outputs": []
    },
    {
      "cell_type": "code",
      "source": [
        "model = vgg19(pretrained=True)"
      ],
      "metadata": {
        "colab": {
          "base_uri": "https://localhost:8080/",
          "height": 136,
          "referenced_widgets": [
            "a6514252d0594d4cadfbfac204fbd88e",
            "490110f92e174847a45b355138680381",
            "3e0687f589764304888f9ddf79a8d019",
            "0c064e98ed4f4a7ea59b40ce0818ac64",
            "8e1d156472ab42b580e83d172718c14b",
            "6ab757f4878b490baaac945da1165385",
            "6ea7e7a0f7034de2b48c63dcc664b8d2",
            "13db5a6151fe48638cd41d7c60a2602a",
            "8b4e397deaaa4a20ba51fd993b20ade0",
            "31ef1b58333a4744816172847c911e9e",
            "54962b48c0ad4732ae01f02c6e0d438c"
          ]
        },
        "id": "Zv2EPwv-t9Mq",
        "outputId": "58312499-7ea0-462f-fc9b-a0267d120e76"
      },
      "execution_count": 16,
      "outputs": [
        {
          "output_type": "stream",
          "name": "stderr",
          "text": [
            "/usr/local/lib/python3.7/dist-packages/torchvision/models/_utils.py:209: UserWarning: The parameter 'pretrained' is deprecated since 0.13 and will be removed in 0.15, please use 'weights' instead.\n",
            "  f\"The parameter '{pretrained_param}' is deprecated since 0.13 and will be removed in 0.15, \"\n",
            "/usr/local/lib/python3.7/dist-packages/torchvision/models/_utils.py:223: UserWarning: Arguments other than a weight enum or `None` for 'weights' are deprecated since 0.13 and will be removed in 0.15. The current behavior is equivalent to passing `weights=VGG19_Weights.IMAGENET1K_V1`. You can also use `weights=VGG19_Weights.DEFAULT` to get the most up-to-date weights.\n",
            "  warnings.warn(msg)\n",
            "Downloading: \"https://download.pytorch.org/models/vgg19-dcbb9e9d.pth\" to /root/.cache/torch/hub/checkpoints/vgg19-dcbb9e9d.pth\n"
          ]
        },
        {
          "output_type": "display_data",
          "data": {
            "text/plain": [
              "  0%|          | 0.00/548M [00:00<?, ?B/s]"
            ],
            "application/vnd.jupyter.widget-view+json": {
              "version_major": 2,
              "version_minor": 0,
              "model_id": "a6514252d0594d4cadfbfac204fbd88e"
            }
          },
          "metadata": {}
        }
      ]
    },
    {
      "cell_type": "code",
      "source": [
        "for param in model.parameters():\n",
        "    param.requires_grad = False"
      ],
      "metadata": {
        "id": "tV5SYaVsuJrF"
      },
      "execution_count": 17,
      "outputs": []
    },
    {
      "cell_type": "code",
      "source": [
        "model.classifier[6] = nn.Linear(4096, TaskConfig.num_classes)\n",
        "model.features[0] = nn.Conv2d(1, 64, kernel_size = (3,3), stride=(1, 1), padding=(1, 1))"
      ],
      "metadata": {
        "id": "Ct-B7LuYwl4o"
      },
      "execution_count": 18,
      "outputs": []
    },
    {
      "cell_type": "code",
      "source": [
        "model.features[0] = nn.Conv2d(1, 64, kernel_size = (3,3), stride=(1, 1), padding=(1, 1))"
      ],
      "metadata": {
        "id": "Powlx6Lvxy_m"
      },
      "execution_count": 19,
      "outputs": []
    },
    {
      "cell_type": "code",
      "source": [
        "device = torch.device('cuda') if torch.cuda.is_available() else torch.device('cpu')\n",
        "config = TaskConfig()\n",
        "model.to(device)\n",
        "featurizer = Featurizer().to(device)\n",
        "\n",
        "optimizer = optim.Adam(model.parameters(), lr=TaskConfig.learning_rate, weight_decay=TaskConfig.weight_decay)\n",
        "criterion = nn.CrossEntropyLoss()\n",
        "storage = defaultdict(list)\n",
        "num_epoch = 10"
      ],
      "metadata": {
        "id": "52B-g7_bvXDP"
      },
      "execution_count": 20,
      "outputs": []
    },
    {
      "cell_type": "code",
      "source": [
        "next(iter(train_dataloader))"
      ],
      "metadata": {
        "colab": {
          "base_uri": "https://localhost:8080/"
        },
        "id": "KAVpunna9lhE",
        "outputId": "31b2d3d5-0690-47d9-9166-b076904d66e4"
      },
      "execution_count": 22,
      "outputs": [
        {
          "output_type": "execute_result",
          "data": {
            "text/plain": [
              "{'wav': tensor([[-3.6566e-02, -4.0889e-02, -5.0206e-02,  ...,  1.0024e-02,\n",
              "           3.0710e-02,  1.8007e-02],\n",
              "         [ 9.4604e-04,  1.0529e-03,  1.0376e-03,  ..., -8.8120e-03,\n",
              "          -9.2850e-03, -9.8190e-03],\n",
              "         [ 0.0000e+00,  0.0000e+00,  0.0000e+00,  ..., -3.6957e-02,\n",
              "          -3.5675e-02, -1.6640e-02],\n",
              "         ...,\n",
              "         [ 5.9639e-03, -6.7561e-03, -3.2708e-04,  ...,  8.0727e-02,\n",
              "           7.6897e-02,  7.6366e-02],\n",
              "         [-1.5259e-04, -9.1553e-05, -3.0518e-05,  ...,  0.0000e+00,\n",
              "           0.0000e+00,  0.0000e+00],\n",
              "         [ 6.1939e-04,  1.1664e-03,  3.0050e-03,  ...,  2.5687e-03,\n",
              "           2.8837e-04,  5.8698e-04]]),\n",
              " 'label': tensor([ 4, 19, 39, 28, 24,  7, 30, 39, 43, 18, 18,  9, 13, 39,  5, 28,  5, 11,\n",
              "         22, 33, 21, 45, 15, 14, 26, 49, 39, 25, 11, 26,  1, 44,  6, 20,  5, 27,\n",
              "          1, 49, 10, 14, 49, 22,  7, 45, 36, 24,  2, 27,  8, 20, 17,  4, 45, 37,\n",
              "         39,  3, 36, 43, 10, 32, 25, 37,  9, 25,  3, 28, 41,  6, 27, 20, 49, 10,\n",
              "         30, 10, 46, 31,  5, 26,  5,  5, 31, 11,  3, 26,  3, 16, 30, 36, 44, 45,\n",
              "         10, 47,  0, 26, 44, 43, 36, 16, 40,  9, 29, 24,  8,  3, 33, 26, 16, 37,\n",
              "         24, 16, 37, 27, 41,  5,  3, 23, 31, 32, 23, 44,  4,  3, 13,  9, 45, 11,\n",
              "         34, 31]),\n",
              " 'length': tensor([220500, 220500, 220500, 220500, 220500, 220500, 220500, 220500, 220500,\n",
              "         220500, 220500, 220500, 220500, 220500, 220500, 220500, 220500, 220500,\n",
              "         220500, 220500, 220500, 220500, 220500, 220500, 220500, 220500, 220500,\n",
              "         220500, 220500, 220500, 220500, 220500, 220500, 220500, 220500, 220500,\n",
              "         220500, 220500, 220500, 220500, 220500, 220500, 220500, 220500, 220500,\n",
              "         220500, 220500, 220500, 220500, 220500, 220500, 220500, 220500, 220500,\n",
              "         220500, 220500, 220500, 220500, 220500, 220500, 220500, 220500, 220500,\n",
              "         220500, 220500, 220500, 220500, 220500, 220500, 220500, 220500, 220500,\n",
              "         220500, 220500, 220500, 220500, 220500, 220500, 220500, 220500, 220500,\n",
              "         220500, 220500, 220500, 220500, 220500, 220500, 220500, 220500, 220500,\n",
              "         220500, 220500, 220500, 220500, 220500, 220500, 220500, 220500, 220500,\n",
              "         220500, 220500, 220500, 220500, 220500, 220500, 220500, 220500, 220500,\n",
              "         220500, 220500, 220500, 220500, 220500, 220500, 220500, 220500, 220500,\n",
              "         220500, 220500, 220500, 220500, 220500, 220500, 220500, 220500, 220500,\n",
              "         220500, 220500])}"
            ]
          },
          "metadata": {},
          "execution_count": 22
        }
      ]
    },
    {
      "cell_type": "code",
      "source": [
        "for epoch in range(num_epoch):\n",
        "    train_loss_meter = AverageMeter()\n",
        "    model.train()\n",
        "    for i, batch in enumerate(tqdm(train_dataloader)):\n",
        "        # Move batch to device if device != 'cpu'\n",
        "        wav = batch['wav'].to(device, non_blocking=True)\n",
        "        label = batch['label'].to(device, non_blocking=True)\n",
        "        mel= featurizer(wav)\n",
        "        output = model(mel.unsqueeze(dim=1))\n",
        "\n",
        "        loss = criterion(output, label)\n",
        "\n",
        "        optimizer.zero_grad()\n",
        "        loss.backward()\n",
        "        optimizer.step()\n",
        "\n",
        "        train_loss_meter.update(loss.item())\n",
        "        \n",
        "    storage['train_loss'].append(train_loss_meter.avg)\n",
        "    \n",
        "    validation_loss_meter = AverageMeter()\n",
        "    validation_accuracy_meter = AverageMeter()\n",
        "\n",
        "    model.eval()\n",
        "    for i, batch in islice(enumerate(tqdm(val_loader)), 1):\n",
        "        # Move batch to device if device != 'cpu'\n",
        "        wav = batch['wav'].to(device)\n",
        "        label = batch['label'].to(device)\n",
        "\n",
        "        #with torch.no_grad():\n",
        "        with torch.inference_mode(): # вместо no_grad усовершественная вещь \n",
        "\n",
        "            mel= featurizer(wav)\n",
        "            output = model(mel.unsqueeze(dim=1))\n",
        "\n",
        "            loss = criterion(output, label)\n",
        "        \n",
        "        matches = (output.argmax(dim=-1) == label).float().mean()\n",
        "\n",
        "        validation_loss_meter.update(loss.item())\n",
        "        validation_accuracy_meter.update(matches.item())\n",
        "        \n",
        "    storage['validation_loss'].append(validation_loss_meter.avg)\n",
        "    storage['validation_accuracy'].append(validation_accuracy_meter.avg)\n",
        "    \n",
        "    clear_output()\n",
        "    \n",
        "    fig, axes = plt.subplots(1, 3, figsize=(20, 5))\n",
        "\n",
        "    axes[0].plot(storage['train_loss'], label='train_loss')\n",
        "    axes[1].plot(storage['validation_loss'], label='validation_loss')\n",
        "\n",
        "    axes[2].plot(storage['validation_accuracy'], label='validation_accuracy')\n",
        "\n",
        "    for i in range(3):\n",
        "        axes[i].grid()\n",
        "        axes[i].legend()\n",
        "\n",
        "    plt.show()"
      ],
      "metadata": {
        "colab": {
          "base_uri": "https://localhost:8080/",
          "height": 320
        },
        "id": "QbJxFQh9vSVQ",
        "outputId": "ecad45af-8114-4e11-b7d1-b20f4b04348b"
      },
      "execution_count": 23,
      "outputs": [
        {
          "output_type": "display_data",
          "data": {
            "text/plain": [
              "<Figure size 1440x360 with 3 Axes>"
            ],
            "image/png": "[encoded data removed]"
          },
          "metadata": {
            "needs_background": "light"
          }
        }
      ]
    },
    {
      "cell_type": "code",
      "source": [
        "%debug"
      ],
      "metadata": {
        "id": "mgInFCLfxJbM",
        "outputId": "ab1b4d86-7232-4e5d-c5e9-5662673c3310",
        "colab": {
          "base_uri": "https://localhost:8080/"
        }
      },
      "execution_count": null,
      "outputs": [
        {
          "name": "stdout",
          "output_type": "stream",
          "text": [
            "> \u001b[0;32m/usr/local/lib/python3.7/dist-packages/torch/nn/modules/conv.py\u001b[0m(454)\u001b[0;36m_conv_forward\u001b[0;34m()\u001b[0m\n",
            "\u001b[0;32m    452 \u001b[0;31m                            _pair(0), self.dilation, self.groups)\n",
            "\u001b[0m\u001b[0;32m    453 \u001b[0;31m        return F.conv2d(input, weight, bias, self.stride,\n",
            "\u001b[0m\u001b[0;32m--> 454 \u001b[0;31m                        self.padding, self.dilation, self.groups)\n",
            "\u001b[0m\u001b[0;32m    455 \u001b[0;31m\u001b[0;34m\u001b[0m\u001b[0m\n",
            "\u001b[0m\u001b[0;32m    456 \u001b[0;31m    \u001b[0;32mdef\u001b[0m \u001b[0mforward\u001b[0m\u001b[0;34m(\u001b[0m\u001b[0mself\u001b[0m\u001b[0;34m,\u001b[0m \u001b[0minput\u001b[0m\u001b[0;34m:\u001b[0m \u001b[0mTensor\u001b[0m\u001b[0;34m)\u001b[0m \u001b[0;34m->\u001b[0m \u001b[0mTensor\u001b[0m\u001b[0;34m:\u001b[0m\u001b[0;34m\u001b[0m\u001b[0;34m\u001b[0m\u001b[0m\n",
            "\u001b[0m\n",
            "ipdb> u\n",
            "> \u001b[0;32m/usr/local/lib/python3.7/dist-packages/torch/nn/modules/conv.py\u001b[0m(457)\u001b[0;36mforward\u001b[0;34m()\u001b[0m\n",
            "\u001b[0;32m    455 \u001b[0;31m\u001b[0;34m\u001b[0m\u001b[0m\n",
            "\u001b[0m\u001b[0;32m    456 \u001b[0;31m    \u001b[0;32mdef\u001b[0m \u001b[0mforward\u001b[0m\u001b[0;34m(\u001b[0m\u001b[0mself\u001b[0m\u001b[0;34m,\u001b[0m \u001b[0minput\u001b[0m\u001b[0;34m:\u001b[0m \u001b[0mTensor\u001b[0m\u001b[0;34m)\u001b[0m \u001b[0;34m->\u001b[0m \u001b[0mTensor\u001b[0m\u001b[0;34m:\u001b[0m\u001b[0;34m\u001b[0m\u001b[0;34m\u001b[0m\u001b[0m\n",
            "\u001b[0m\u001b[0;32m--> 457 \u001b[0;31m        \u001b[0;32mreturn\u001b[0m \u001b[0mself\u001b[0m\u001b[0;34m.\u001b[0m\u001b[0m_conv_forward\u001b[0m\u001b[0;34m(\u001b[0m\u001b[0minput\u001b[0m\u001b[0;34m,\u001b[0m \u001b[0mself\u001b[0m\u001b[0;34m.\u001b[0m\u001b[0mweight\u001b[0m\u001b[0;34m,\u001b[0m \u001b[0mself\u001b[0m\u001b[0;34m.\u001b[0m\u001b[0mbias\u001b[0m\u001b[0;34m)\u001b[0m\u001b[0;34m\u001b[0m\u001b[0;34m\u001b[0m\u001b[0m\n",
            "\u001b[0m\u001b[0;32m    458 \u001b[0;31m\u001b[0;34m\u001b[0m\u001b[0m\n",
            "\u001b[0m\u001b[0;32m    459 \u001b[0;31m\u001b[0;32mclass\u001b[0m \u001b[0mConv3d\u001b[0m\u001b[0;34m(\u001b[0m\u001b[0m_ConvNd\u001b[0m\u001b[0;34m)\u001b[0m\u001b[0;34m:\u001b[0m\u001b[0;34m\u001b[0m\u001b[0;34m\u001b[0m\u001b[0m\n",
            "\u001b[0m\n",
            "ipdb> u\n",
            "> \u001b[0;32m/usr/local/lib/python3.7/dist-packages/torch/nn/modules/module.py\u001b[0m(1130)\u001b[0;36m_call_impl\u001b[0;34m()\u001b[0m\n",
            "\u001b[0;32m   1128 \u001b[0;31m        if not (self._backward_hooks or self._forward_hooks or self._forward_pre_hooks or _global_backward_hooks\n",
            "\u001b[0m\u001b[0;32m   1129 \u001b[0;31m                or _global_forward_hooks or _global_forward_pre_hooks):\n",
            "\u001b[0m\u001b[0;32m-> 1130 \u001b[0;31m            \u001b[0;32mreturn\u001b[0m \u001b[0mforward_call\u001b[0m\u001b[0;34m(\u001b[0m\u001b[0;34m*\u001b[0m\u001b[0minput\u001b[0m\u001b[0;34m,\u001b[0m \u001b[0;34m**\u001b[0m\u001b[0mkwargs\u001b[0m\u001b[0;34m)\u001b[0m\u001b[0;34m\u001b[0m\u001b[0;34m\u001b[0m\u001b[0m\n",
            "\u001b[0m\u001b[0;32m   1131 \u001b[0;31m        \u001b[0;31m# Do not call functions when jit is used\u001b[0m\u001b[0;34m\u001b[0m\u001b[0;34m\u001b[0m\u001b[0;34m\u001b[0m\u001b[0m\n",
            "\u001b[0m\u001b[0;32m   1132 \u001b[0;31m        \u001b[0mfull_backward_hooks\u001b[0m\u001b[0;34m,\u001b[0m \u001b[0mnon_full_backward_hooks\u001b[0m \u001b[0;34m=\u001b[0m \u001b[0;34m[\u001b[0m\u001b[0;34m]\u001b[0m\u001b[0;34m,\u001b[0m \u001b[0;34m[\u001b[0m\u001b[0;34m]\u001b[0m\u001b[0;34m\u001b[0m\u001b[0;34m\u001b[0m\u001b[0m\n",
            "\u001b[0m\n",
            "ipdb> u\n",
            "> \u001b[0;32m/usr/local/lib/python3.7/dist-packages/torch/nn/modules/container.py\u001b[0m(139)\u001b[0;36mforward\u001b[0;34m()\u001b[0m\n",
            "\u001b[0;32m    137 \u001b[0;31m    \u001b[0;32mdef\u001b[0m \u001b[0mforward\u001b[0m\u001b[0;34m(\u001b[0m\u001b[0mself\u001b[0m\u001b[0;34m,\u001b[0m \u001b[0minput\u001b[0m\u001b[0;34m)\u001b[0m\u001b[0;34m:\u001b[0m\u001b[0;34m\u001b[0m\u001b[0;34m\u001b[0m\u001b[0m\n",
            "\u001b[0m\u001b[0;32m    138 \u001b[0;31m        \u001b[0;32mfor\u001b[0m \u001b[0mmodule\u001b[0m \u001b[0;32min\u001b[0m \u001b[0mself\u001b[0m\u001b[0;34m:\u001b[0m\u001b[0;34m\u001b[0m\u001b[0;34m\u001b[0m\u001b[0m\n",
            "\u001b[0m\u001b[0;32m--> 139 \u001b[0;31m            \u001b[0minput\u001b[0m \u001b[0;34m=\u001b[0m \u001b[0mmodule\u001b[0m\u001b[0;34m(\u001b[0m\u001b[0minput\u001b[0m\u001b[0;34m)\u001b[0m\u001b[0;34m\u001b[0m\u001b[0;34m\u001b[0m\u001b[0m\n",
            "\u001b[0m\u001b[0;32m    140 \u001b[0;31m        \u001b[0;32mreturn\u001b[0m \u001b[0minput\u001b[0m\u001b[0;34m\u001b[0m\u001b[0;34m\u001b[0m\u001b[0m\n",
            "\u001b[0m\u001b[0;32m    141 \u001b[0;31m\u001b[0;34m\u001b[0m\u001b[0m\n",
            "\u001b[0m\n",
            "ipdb> u\n",
            "> \u001b[0;32m/usr/local/lib/python3.7/dist-packages/torch/nn/modules/module.py\u001b[0m(1130)\u001b[0;36m_call_impl\u001b[0;34m()\u001b[0m\n",
            "\u001b[0;32m   1128 \u001b[0;31m        if not (self._backward_hooks or self._forward_hooks or self._forward_pre_hooks or _global_backward_hooks\n",
            "\u001b[0m\u001b[0;32m   1129 \u001b[0;31m                or _global_forward_hooks or _global_forward_pre_hooks):\n",
            "\u001b[0m\u001b[0;32m-> 1130 \u001b[0;31m            \u001b[0;32mreturn\u001b[0m \u001b[0mforward_call\u001b[0m\u001b[0;34m(\u001b[0m\u001b[0;34m*\u001b[0m\u001b[0minput\u001b[0m\u001b[0;34m,\u001b[0m \u001b[0;34m**\u001b[0m\u001b[0mkwargs\u001b[0m\u001b[0;34m)\u001b[0m\u001b[0;34m\u001b[0m\u001b[0;34m\u001b[0m\u001b[0m\n",
            "\u001b[0m\u001b[0;32m   1131 \u001b[0;31m        \u001b[0;31m# Do not call functions when jit is used\u001b[0m\u001b[0;34m\u001b[0m\u001b[0;34m\u001b[0m\u001b[0;34m\u001b[0m\u001b[0m\n",
            "\u001b[0m\u001b[0;32m   1132 \u001b[0;31m        \u001b[0mfull_backward_hooks\u001b[0m\u001b[0;34m,\u001b[0m \u001b[0mnon_full_backward_hooks\u001b[0m \u001b[0;34m=\u001b[0m \u001b[0;34m[\u001b[0m\u001b[0;34m]\u001b[0m\u001b[0;34m,\u001b[0m \u001b[0;34m[\u001b[0m\u001b[0;34m]\u001b[0m\u001b[0;34m\u001b[0m\u001b[0;34m\u001b[0m\u001b[0m\n",
            "\u001b[0m\n",
            "ipdb> u\n",
            "> \u001b[0;32m/usr/local/lib/python3.7/dist-packages/torchvision/models/vgg.py\u001b[0m(66)\u001b[0;36mforward\u001b[0;34m()\u001b[0m\n",
            "\u001b[0;32m     64 \u001b[0;31m\u001b[0;34m\u001b[0m\u001b[0m\n",
            "\u001b[0m\u001b[0;32m     65 \u001b[0;31m    \u001b[0;32mdef\u001b[0m \u001b[0mforward\u001b[0m\u001b[0;34m(\u001b[0m\u001b[0mself\u001b[0m\u001b[0;34m,\u001b[0m \u001b[0mx\u001b[0m\u001b[0;34m:\u001b[0m \u001b[0mtorch\u001b[0m\u001b[0;34m.\u001b[0m\u001b[0mTensor\u001b[0m\u001b[0;34m)\u001b[0m \u001b[0;34m->\u001b[0m \u001b[0mtorch\u001b[0m\u001b[0;34m.\u001b[0m\u001b[0mTensor\u001b[0m\u001b[0;34m:\u001b[0m\u001b[0;34m\u001b[0m\u001b[0;34m\u001b[0m\u001b[0m\n",
            "\u001b[0m\u001b[0;32m---> 66 \u001b[0;31m        \u001b[0mx\u001b[0m \u001b[0;34m=\u001b[0m \u001b[0mself\u001b[0m\u001b[0;34m.\u001b[0m\u001b[0mfeatures\u001b[0m\u001b[0;34m(\u001b[0m\u001b[0mx\u001b[0m\u001b[0;34m)\u001b[0m\u001b[0;34m\u001b[0m\u001b[0;34m\u001b[0m\u001b[0m\n",
            "\u001b[0m\u001b[0;32m     67 \u001b[0;31m        \u001b[0mx\u001b[0m \u001b[0;34m=\u001b[0m \u001b[0mself\u001b[0m\u001b[0;34m.\u001b[0m\u001b[0mavgpool\u001b[0m\u001b[0;34m(\u001b[0m\u001b[0mx\u001b[0m\u001b[0;34m)\u001b[0m\u001b[0;34m\u001b[0m\u001b[0;34m\u001b[0m\u001b[0m\n",
            "\u001b[0m\u001b[0;32m     68 \u001b[0;31m        \u001b[0mx\u001b[0m \u001b[0;34m=\u001b[0m \u001b[0mtorch\u001b[0m\u001b[0;34m.\u001b[0m\u001b[0mflatten\u001b[0m\u001b[0;34m(\u001b[0m\u001b[0mx\u001b[0m\u001b[0;34m,\u001b[0m \u001b[0;36m1\u001b[0m\u001b[0;34m)\u001b[0m\u001b[0;34m\u001b[0m\u001b[0;34m\u001b[0m\u001b[0m\n",
            "\u001b[0m\n",
            "ipdb> q\n"
          ]
        }
      ]
    }
  ],
  "metadata": {
    "accelerator": "GPU",
    "colab": {
      "collapsed_sections": [],
      "provenance": []
    },
    "kernelspec": {
      "display_name": "Python 3.9.1 64-bit",
      "language": "python",
      "name": "python3"
    },
    "language_info": {
      "codemirror_mode": {
        "name": "ipython",
        "version": 3
      },
      "file_extension": ".py",
      "mimetype": "text/x-python",
      "name": "python",
      "nbconvert_exporter": "python",
      "pygments_lexer": "ipython3",
      "version": "3.9.1"
    },
    "vscode": {
      "interpreter": {
        "hash": "82ed002fa2d4956f5c6aec99bcefe0f73a9f79882f3c9e2319b14958a5896ac5"
      }
    },
    "widgets": {
      "application/vnd.jupyter.widget-state+json": {
        "a6514252d0594d4cadfbfac204fbd88e": {
          "model_module": "@jupyter-widgets/controls",
          "model_name": "HBoxModel",
          "model_module_version": "1.5.0",
          "state": {
            "_dom_classes": [],
            "_model_module": "@jupyter-widgets/controls",
            "_model_module_version": "1.5.0",
            "_model_name": "HBoxModel",
            "_view_count": null,
            "_view_module": "@jupyter-widgets/controls",
            "_view_module_version": "1.5.0",
            "_view_name": "HBoxView",
            "box_style": "",
            "children": [
              "IPY_MODEL_490110f92e174847a45b355138680381",
              "IPY_MODEL_3e0687f589764304888f9ddf79a8d019",
              "IPY_MODEL_0c064e98ed4f4a7ea59b40ce0818ac64"
            ],
            "layout": "IPY_MODEL_8e1d156472ab42b580e83d172718c14b"
          }
        },
        "490110f92e174847a45b355138680381": {
          "model_module": "@jupyter-widgets/controls",
          "model_name": "HTMLModel",
          "model_module_version": "1.5.0",
          "state": {
            "_dom_classes": [],
            "_model_module": "@jupyter-widgets/controls",
            "_model_module_version": "1.5.0",
            "_model_name": "HTMLModel",
            "_view_count": null,
            "_view_module": "@jupyter-widgets/controls",
            "_view_module_version": "1.5.0",
            "_view_name": "HTMLView",
            "description": "",
            "description_tooltip": null,
            "layout": "IPY_MODEL_6ab757f4878b490baaac945da1165385",
            "placeholder": "​",
            "style": "IPY_MODEL_6ea7e7a0f7034de2b48c63dcc664b8d2",
            "value": "100%"
          }
        },
        "3e0687f589764304888f9ddf79a8d019": {
          "model_module": "@jupyter-widgets/controls",
          "model_name": "FloatProgressModel",
          "model_module_version": "1.5.0",
          "state": {
            "_dom_classes": [],
            "_model_module": "@jupyter-widgets/controls",
            "_model_module_version": "1.5.0",
            "_model_name": "FloatProgressModel",
            "_view_count": null,
            "_view_module": "@jupyter-widgets/controls",
            "_view_module_version": "1.5.0",
            "_view_name": "ProgressView",
            "bar_style": "success",
            "description": "",
            "description_tooltip": null,
            "layout": "IPY_MODEL_13db5a6151fe48638cd41d7c60a2602a",
            "max": 574673361,
            "min": 0,
            "orientation": "horizontal",
            "style": "IPY_MODEL_8b4e397deaaa4a20ba51fd993b20ade0",
            "value": 574673361
          }
        },
        "0c064e98ed4f4a7ea59b40ce0818ac64": {
          "model_module": "@jupyter-widgets/controls",
          "model_name": "HTMLModel",
          "model_module_version": "1.5.0",
          "state": {
            "_dom_classes": [],
            "_model_module": "@jupyter-widgets/controls",
            "_model_module_version": "1.5.0",
            "_model_name": "HTMLModel",
            "_view_count": null,
            "_view_module": "@jupyter-widgets/controls",
            "_view_module_version": "1.5.0",
            "_view_name": "HTMLView",
            "description": "",
            "description_tooltip": null,
            "layout": "IPY_MODEL_31ef1b58333a4744816172847c911e9e",
            "placeholder": "​",
            "style": "IPY_MODEL_54962b48c0ad4732ae01f02c6e0d438c",
            "value": " 548M/548M [00:02&lt;00:00, 235MB/s]"
          }
        },
        "8e1d156472ab42b580e83d172718c14b": {
          "model_module": "@jupyter-widgets/base",
          "model_name": "LayoutModel",
          "model_module_version": "1.2.0",
          "state": {
            "_model_module": "@jupyter-widgets/base",
            "_model_module_version": "1.2.0",
            "_model_name": "LayoutModel",
            "_view_count": null,
            "_view_module": "@jupyter-widgets/base",
            "_view_module_version": "1.2.0",
            "_view_name": "LayoutView",
            "align_content": null,
            "align_items": null,
            "align_self": null,
            "border": null,
            "bottom": null,
            "display": null,
            "flex": null,
            "flex_flow": null,
            "grid_area": null,
            "grid_auto_columns": null,
            "grid_auto_flow": null,
            "grid_auto_rows": null,
            "grid_column": null,
            "grid_gap": null,
            "grid_row": null,
            "grid_template_areas": null,
            "grid_template_columns": null,
            "grid_template_rows": null,
            "height": null,
            "justify_content": null,
            "justify_items": null,
            "left": null,
            "margin": null,
            "max_height": null,
            "max_width": null,
            "min_height": null,
            "min_width": null,
            "object_fit": null,
            "object_position": null,
            "order": null,
            "overflow": null,
            "overflow_x": null,
            "overflow_y": null,
            "padding": null,
            "right": null,
            "top": null,
            "visibility": null,
            "width": null
          }
        },
        "6ab757f4878b490baaac945da1165385": {
          "model_module": "@jupyter-widgets/base",
          "model_name": "LayoutModel",
          "model_module_version": "1.2.0",
          "state": {
            "_model_module": "@jupyter-widgets/base",
            "_model_module_version": "1.2.0",
            "_model_name": "LayoutModel",
            "_view_count": null,
            "_view_module": "@jupyter-widgets/base",
            "_view_module_version": "1.2.0",
            "_view_name": "LayoutView",
            "align_content": null,
            "align_items": null,
            "align_self": null,
            "border": null,
            "bottom": null,
            "display": null,
            "flex": null,
            "flex_flow": null,
            "grid_area": null,
            "grid_auto_columns": null,
            "grid_auto_flow": null,
            "grid_auto_rows": null,
            "grid_column": null,
            "grid_gap": null,
            "grid_row": null,
            "grid_template_areas": null,
            "grid_template_columns": null,
            "grid_template_rows": null,
            "height": null,
            "justify_content": null,
            "justify_items": null,
            "left": null,
            "margin": null,
            "max_height": null,
            "max_width": null,
            "min_height": null,
            "min_width": null,
            "object_fit": null,
            "object_position": null,
            "order": null,
            "overflow": null,
            "overflow_x": null,
            "overflow_y": null,
            "padding": null,
            "right": null,
            "top": null,
            "visibility": null,
            "width": null
          }
        },
        "6ea7e7a0f7034de2b48c63dcc664b8d2": {
          "model_module": "@jupyter-widgets/controls",
          "model_name": "DescriptionStyleModel",
          "model_module_version": "1.5.0",
          "state": {
            "_model_module": "@jupyter-widgets/controls",
            "_model_module_version": "1.5.0",
            "_model_name": "DescriptionStyleModel",
            "_view_count": null,
            "_view_module": "@jupyter-widgets/base",
            "_view_module_version": "1.2.0",
            "_view_name": "StyleView",
            "description_width": ""
          }
        },
        "13db5a6151fe48638cd41d7c60a2602a": {
          "model_module": "@jupyter-widgets/base",
          "model_name": "LayoutModel",
          "model_module_version": "1.2.0",
          "state": {
            "_model_module": "@jupyter-widgets/base",
            "_model_module_version": "1.2.0",
            "_model_name": "LayoutModel",
            "_view_count": null,
            "_view_module": "@jupyter-widgets/base",
            "_view_module_version": "1.2.0",
            "_view_name": "LayoutView",
            "align_content": null,
            "align_items": null,
            "align_self": null,
            "border": null,
            "bottom": null,
            "display": null,
            "flex": null,
            "flex_flow": null,
            "grid_area": null,
            "grid_auto_columns": null,
            "grid_auto_flow": null,
            "grid_auto_rows": null,
            "grid_column": null,
            "grid_gap": null,
            "grid_row": null,
            "grid_template_areas": null,
            "grid_template_columns": null,
            "grid_template_rows": null,
            "height": null,
            "justify_content": null,
            "justify_items": null,
            "left": null,
            "margin": null,
            "max_height": null,
            "max_width": null,
            "min_height": null,
            "min_width": null,
            "object_fit": null,
            "object_position": null,
            "order": null,
            "overflow": null,
            "overflow_x": null,
            "overflow_y": null,
            "padding": null,
            "right": null,
            "top": null,
            "visibility": null,
            "width": null
          }
        },
        "8b4e397deaaa4a20ba51fd993b20ade0": {
          "model_module": "@jupyter-widgets/controls",
          "model_name": "ProgressStyleModel",
          "model_module_version": "1.5.0",
          "state": {
            "_model_module": "@jupyter-widgets/controls",
            "_model_module_version": "1.5.0",
            "_model_name": "ProgressStyleModel",
            "_view_count": null,
            "_view_module": "@jupyter-widgets/base",
            "_view_module_version": "1.2.0",
            "_view_name": "StyleView",
            "bar_color": null,
            "description_width": ""
          }
        },
        "31ef1b58333a4744816172847c911e9e": {
          "model_module": "@jupyter-widgets/base",
          "model_name": "LayoutModel",
          "model_module_version": "1.2.0",
          "state": {
            "_model_module": "@jupyter-widgets/base",
            "_model_module_version": "1.2.0",
            "_model_name": "LayoutModel",
            "_view_count": null,
            "_view_module": "@jupyter-widgets/base",
            "_view_module_version": "1.2.0",
            "_view_name": "LayoutView",
            "align_content": null,
            "align_items": null,
            "align_self": null,
            "border": null,
            "bottom": null,
            "display": null,
            "flex": null,
            "flex_flow": null,
            "grid_area": null,
            "grid_auto_columns": null,
            "grid_auto_flow": null,
            "grid_auto_rows": null,
            "grid_column": null,
            "grid_gap": null,
            "grid_row": null,
            "grid_template_areas": null,
            "grid_template_columns": null,
            "grid_template_rows": null,
            "height": null,
            "justify_content": null,
            "justify_items": null,
            "left": null,
            "margin": null,
            "max_height": null,
            "max_width": null,
            "min_height": null,
            "min_width": null,
            "object_fit": null,
            "object_position": null,
            "order": null,
            "overflow": null,
            "overflow_x": null,
            "overflow_y": null,
            "padding": null,
            "right": null,
            "top": null,
            "visibility": null,
            "width": null
          }
        },
        "54962b48c0ad4732ae01f02c6e0d438c": {
          "model_module": "@jupyter-widgets/controls",
          "model_name": "DescriptionStyleModel",
          "model_module_version": "1.5.0",
          "state": {
            "_model_module": "@jupyter-widgets/controls",
            "_model_module_version": "1.5.0",
            "_model_name": "DescriptionStyleModel",
            "_view_count": null,
            "_view_module": "@jupyter-widgets/base",
            "_view_module_version": "1.2.0",
            "_view_name": "StyleView",
            "description_width": ""
          }
        }
      }
    }
  },
  "nbformat": 4,
  "nbformat_minor": 0
}